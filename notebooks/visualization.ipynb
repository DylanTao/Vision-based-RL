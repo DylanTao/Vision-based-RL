{
 "cells": [
  {
   "cell_type": "code",
   "execution_count": 4,
   "metadata": {},
   "outputs": [],
   "source": [
    "# import packages\n",
    "\n",
    "import numpy as np\n",
    "import matplotlib.pyplot as plt\n",
    "from pathlib import Path\n",
    "import pandas as pd"
   ]
  },
  {
   "attachments": {},
   "cell_type": "markdown",
   "metadata": {},
   "source": [
    "## Get reward csv files for liftcube"
   ]
  },
  {
   "attachments": {},
   "cell_type": "markdown",
   "metadata": {},
   "source": [
    "drq_v2"
   ]
  },
  {
   "cell_type": "code",
   "execution_count": null,
   "metadata": {},
   "outputs": [],
   "source": [
    "model = \"drq_v2\"\n",
    "task = \"liftcube\"\n",
    "directory = Path.cwd()\n",
    "training_location = 'training/'\n",
    "liftcube_reward_drq_dir = directory / model/ training_location/ task\n",
    "\n",
    "runs = [1,2,3]\n",
    "drq_data = pd.DataFrame()\n",
    "for run in runs:\n",
    "    run_dir = liftcube_reward_drq_dir / str(run)\n",
    "    run_data = pd.read_csv(run_dir / 'reward_and_length.csv')\n",
    "    # put reward in a column with model + run as column name\n",
    "    drq_data[model + '_' + str(run)] = run_data['reward']\n",
    "\n",
    "print(drq_data)\n"
   ]
  },
  {
   "attachments": {},
   "cell_type": "markdown",
   "metadata": {},
   "source": [
    "sac"
   ]
  },
  {
   "cell_type": "code",
   "execution_count": 13,
   "metadata": {},
   "outputs": [
    {
     "name": "stdout",
     "output_type": "stream",
     "text": [
      "      Episode reward\n",
      "0          51.348833\n",
      "1          32.202548\n",
      "2          63.770441\n",
      "3          28.221083\n",
      "4          51.972439\n",
      "..               ...\n",
      "945       311.130232\n",
      "946       232.190932\n",
      "947       286.960427\n",
      "948       300.157018\n",
      "949       427.008404\n",
      "\n",
      "[950 rows x 1 columns]\n"
     ]
    }
   ],
   "source": [
    "model = \"sac\"\n",
    "task = \"liftcube\"\n",
    "directory = Path.cwd().parents[0]\n",
    "training_location = 'training/'\n",
    "liftcube_reward_sac_dir = directory / model/ training_location/ task\n",
    "\n",
    "runs = [1,2,3]\n",
    "runs = [1]\n",
    "sac_data = pd.DataFrame()\n",
    "for run in runs:\n",
    "    run_dir = liftcube_reward_sac_dir / str(run)\n",
    "    run_data = pd.read_csv(run_dir / 'reward_and_length.csv')\n",
    "    # remove episode number column\n",
    "    run_data = run_data.drop(columns=['Episode number'])\n",
    "    # rename reward column to \"model + run\"\n",
    "    run_data = run_data.rename(\n",
    "        columns={' Episode reward': model + '_' + str(run)})\n",
    "    # concat with data from other runs\n",
    "    sac_data = pd.concat([sac_data, run_data], axis=1)\n",
    "        \n",
    "print(sac_data)"
   ]
  },
  {
   "cell_type": "code",
   "execution_count": 17,
   "metadata": {},
   "outputs": [
    {
     "data": {
      "text/plain": [
       "Index([' Episode reward'], dtype='object')"
      ]
     },
     "execution_count": 17,
     "metadata": {},
     "output_type": "execute_result"
    }
   ],
   "source": [
    "run_data.columns"
   ]
  },
  {
   "cell_type": "code",
   "execution_count": null,
   "metadata": {},
   "outputs": [],
   "source": []
  }
 ],
 "metadata": {
  "kernelspec": {
   "display_name": "Python 3",
   "language": "python",
   "name": "python3"
  },
  "language_info": {
   "codemirror_mode": {
    "name": "ipython",
    "version": 3
   },
   "file_extension": ".py",
   "mimetype": "text/x-python",
   "name": "python",
   "nbconvert_exporter": "python",
   "pygments_lexer": "ipython3",
   "version": "3.10.7"
  },
  "orig_nbformat": 4
 },
 "nbformat": 4,
 "nbformat_minor": 2
}
